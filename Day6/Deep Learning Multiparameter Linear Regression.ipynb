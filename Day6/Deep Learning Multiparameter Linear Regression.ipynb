{
 "cells": [
  {
   "cell_type": "code",
   "execution_count": 3,
   "id": "20e14fbc",
   "metadata": {},
   "outputs": [],
   "source": [
    "import tensorflow\n",
    "import pandas\n",
    "import matplotlib.pyplot\n",
    "import sklearn.model_selection"
   ]
  },
  {
   "cell_type": "code",
   "execution_count": 6,
   "id": "fc2bf813",
   "metadata": {},
   "outputs": [
    {
     "name": "stderr",
     "output_type": "stream",
     "text": [
      "C:\\Users\\Soumi\\AppData\\Local\\Temp\\ipykernel_7680\\2632086542.py:7: SettingWithCopyWarning: \n",
      "A value is trying to be set on a copy of a slice from a DataFrame.\n",
      "Try using .loc[row_indexer,col_indexer] = value instead\n",
      "\n",
      "See the caveats in the documentation: https://pandas.pydata.org/pandas-docs/stable/user_guide/indexing.html#returning-a-view-versus-a-copy\n",
      "  X[Xlabel] /= xrange\n"
     ]
    }
   ],
   "source": [
    "df = pandas.read_csv(\"train.csv\")\n",
    "X = df[[\"OverallQual\", \"GrLivArea\", \"GarageCars\"]]\n",
    "Y = df[\"SalePrice\"]\n",
    "for Xlabel in X:\n",
    "    Xtemp = X[Xlabel]\n",
    "    xrange = Xtemp.std()\n",
    "    X[Xlabel] /= xrange\n",
    "    \n",
    "yrange = Y.std()\n",
    "Y /= yrange"
   ]
  },
  {
   "cell_type": "code",
   "execution_count": 7,
   "id": "b34a3adf",
   "metadata": {},
   "outputs": [
    {
     "data": {
      "text/html": [
       "<div>\n",
       "<style scoped>\n",
       "    .dataframe tbody tr th:only-of-type {\n",
       "        vertical-align: middle;\n",
       "    }\n",
       "\n",
       "    .dataframe tbody tr th {\n",
       "        vertical-align: top;\n",
       "    }\n",
       "\n",
       "    .dataframe thead th {\n",
       "        text-align: right;\n",
       "    }\n",
       "</style>\n",
       "<table border=\"1\" class=\"dataframe\">\n",
       "  <thead>\n",
       "    <tr style=\"text-align: right;\">\n",
       "      <th></th>\n",
       "      <th>OverallQual</th>\n",
       "      <th>GrLivArea</th>\n",
       "      <th>GarageCars</th>\n",
       "    </tr>\n",
       "  </thead>\n",
       "  <tbody>\n",
       "    <tr>\n",
       "      <th>count</th>\n",
       "      <td>1460.000000</td>\n",
       "      <td>1460.000000</td>\n",
       "      <td>1460.000000</td>\n",
       "    </tr>\n",
       "    <tr>\n",
       "      <th>mean</th>\n",
       "      <td>4.410217</td>\n",
       "      <td>2.883959</td>\n",
       "      <td>2.364630</td>\n",
       "    </tr>\n",
       "    <tr>\n",
       "      <th>std</th>\n",
       "      <td>1.000000</td>\n",
       "      <td>1.000000</td>\n",
       "      <td>1.000000</td>\n",
       "    </tr>\n",
       "    <tr>\n",
       "      <th>min</th>\n",
       "      <td>0.723068</td>\n",
       "      <td>0.635609</td>\n",
       "      <td>0.000000</td>\n",
       "    </tr>\n",
       "    <tr>\n",
       "      <th>25%</th>\n",
       "      <td>3.615338</td>\n",
       "      <td>2.149462</td>\n",
       "      <td>1.338124</td>\n",
       "    </tr>\n",
       "    <tr>\n",
       "      <th>50%</th>\n",
       "      <td>4.338406</td>\n",
       "      <td>2.786022</td>\n",
       "      <td>2.676248</td>\n",
       "    </tr>\n",
       "    <tr>\n",
       "      <th>75%</th>\n",
       "      <td>5.061473</td>\n",
       "      <td>3.381192</td>\n",
       "      <td>2.676248</td>\n",
       "    </tr>\n",
       "    <tr>\n",
       "      <th>max</th>\n",
       "      <td>7.230676</td>\n",
       "      <td>10.736842</td>\n",
       "      <td>5.352495</td>\n",
       "    </tr>\n",
       "  </tbody>\n",
       "</table>\n",
       "</div>"
      ],
      "text/plain": [
       "       OverallQual    GrLivArea   GarageCars\n",
       "count  1460.000000  1460.000000  1460.000000\n",
       "mean      4.410217     2.883959     2.364630\n",
       "std       1.000000     1.000000     1.000000\n",
       "min       0.723068     0.635609     0.000000\n",
       "25%       3.615338     2.149462     1.338124\n",
       "50%       4.338406     2.786022     2.676248\n",
       "75%       5.061473     3.381192     2.676248\n",
       "max       7.230676    10.736842     5.352495"
      ]
     },
     "execution_count": 7,
     "metadata": {},
     "output_type": "execute_result"
    }
   ],
   "source": [
    "X.describe()"
   ]
  },
  {
   "cell_type": "code",
   "execution_count": 8,
   "id": "2f1929d9",
   "metadata": {},
   "outputs": [],
   "source": [
    "Xtrain, Xtest, Ytrain, Ytest = sklearn.model_selection.train_test_split(\n",
    "    X, Y, train_size=0.8, test_size=0.2,\n",
    ")"
   ]
  },
  {
   "cell_type": "code",
   "execution_count": 9,
   "id": "2d1f487d",
   "metadata": {},
   "outputs": [
    {
     "name": "stdout",
     "output_type": "stream",
     "text": [
      "Model: \"sequential\"\n",
      "_________________________________________________________________\n",
      " Layer (type)                Output Shape              Param #   \n",
      "=================================================================\n",
      " dense (Dense)               (None, 1)                 4         \n",
      "                                                                 \n",
      "=================================================================\n",
      "Total params: 4\n",
      "Trainable params: 4\n",
      "Non-trainable params: 0\n",
      "_________________________________________________________________\n"
     ]
    }
   ],
   "source": [
    "model = tensorflow.keras.Sequential([\n",
    "    tensorflow.keras.Input(3),\n",
    "    tensorflow.keras.layers.Dense(1),\n",
    "])\n",
    "model.summary()"
   ]
  },
  {
   "cell_type": "code",
   "execution_count": 10,
   "id": "48ab3b07",
   "metadata": {},
   "outputs": [
    {
     "name": "stdout",
     "output_type": "stream",
     "text": [
      "Epoch 1/30\n",
      "1168/1168 [==============================] - 2s 1ms/step - loss: 0.8938\n",
      "Epoch 2/30\n",
      "1168/1168 [==============================] - 1s 1ms/step - loss: 0.6643\n",
      "Epoch 3/30\n",
      "1168/1168 [==============================] - 1s 1ms/step - loss: 0.5246\n",
      "Epoch 4/30\n",
      "1168/1168 [==============================] - 2s 1ms/step - loss: 0.4279\n",
      "Epoch 5/30\n",
      "1168/1168 [==============================] - 2s 1ms/step - loss: 0.3702\n",
      "Epoch 6/30\n",
      "1168/1168 [==============================] - 2s 1ms/step - loss: 0.3325\n",
      "Epoch 7/30\n",
      "1168/1168 [==============================] - 2s 1ms/step - loss: 0.3077\n",
      "Epoch 8/30\n",
      "1168/1168 [==============================] - 2s 1ms/step - loss: 0.2912\n",
      "Epoch 9/30\n",
      "1168/1168 [==============================] - 2s 1ms/step - loss: 0.2848\n",
      "Epoch 10/30\n",
      "1168/1168 [==============================] - 2s 1ms/step - loss: 0.2804\n",
      "Epoch 11/30\n",
      "1168/1168 [==============================] - 2s 1ms/step - loss: 0.2762\n",
      "Epoch 12/30\n",
      "1168/1168 [==============================] - 2s 1ms/step - loss: 0.2748\n",
      "Epoch 13/30\n",
      "1168/1168 [==============================] - 2s 1ms/step - loss: 0.2741\n",
      "Epoch 14/30\n",
      "1168/1168 [==============================] - 2s 1ms/step - loss: 0.2712\n",
      "Epoch 15/30\n",
      "1168/1168 [==============================] - 2s 1ms/step - loss: 0.2718\n",
      "Epoch 16/30\n",
      "1168/1168 [==============================] - 2s 1ms/step - loss: 0.2730\n",
      "Epoch 17/30\n",
      "1168/1168 [==============================] - 2s 1ms/step - loss: 0.2705\n",
      "Epoch 18/30\n",
      "1168/1168 [==============================] - 2s 1ms/step - loss: 0.2725\n",
      "Epoch 19/30\n",
      "1168/1168 [==============================] - 2s 1ms/step - loss: 0.2705\n",
      "Epoch 20/30\n",
      "1168/1168 [==============================] - 2s 1ms/step - loss: 0.2728\n",
      "Epoch 21/30\n",
      "1168/1168 [==============================] - 2s 1ms/step - loss: 0.2721\n",
      "Epoch 22/30\n",
      "1168/1168 [==============================] - 2s 2ms/step - loss: 0.2733\n",
      "Epoch 23/30\n",
      "1168/1168 [==============================] - 2s 1ms/step - loss: 0.2721\n",
      "Epoch 24/30\n",
      "1168/1168 [==============================] - 2s 1ms/step - loss: 0.2718\n",
      "Epoch 25/30\n",
      "1168/1168 [==============================] - 2s 1ms/step - loss: 0.2712\n",
      "Epoch 26/30\n",
      "1168/1168 [==============================] - 2s 1ms/step - loss: 0.2719\n",
      "Epoch 27/30\n",
      "1168/1168 [==============================] - 2s 2ms/step - loss: 0.2702\n",
      "Epoch 28/30\n",
      "1168/1168 [==============================] - 2s 1ms/step - loss: 0.2708\n",
      "Epoch 29/30\n",
      "1168/1168 [==============================] - 2s 1ms/step - loss: 0.2732\n",
      "Epoch 30/30\n",
      "1168/1168 [==============================] - 2s 1ms/step - loss: 0.2710\n"
     ]
    }
   ],
   "source": [
    "model.compile(optimizer=\"adam\", loss=\"mean_squared_error\")\n",
    "history = model.fit(Xtrain, Ytrain, batch_size=1, epochs=30)"
   ]
  },
  {
   "cell_type": "code",
   "execution_count": 11,
   "id": "76886062",
   "metadata": {},
   "outputs": [
    {
     "name": "stdout",
     "output_type": "stream",
     "text": [
      "292/292 [==============================] - 0s 860us/step - loss: 0.2385\n",
      "10/10 [==============================] - 0s 2ms/step\n"
     ]
    }
   ],
   "source": [
    "model.evaluate(Xtest, Ytest, batch_size=1)\n",
    "Ypred = model.predict(Xtest)"
   ]
  },
  {
   "cell_type": "code",
   "execution_count": 13,
   "id": "17acdff2",
   "metadata": {},
   "outputs": [
    {
     "name": "stdout",
     "output_type": "stream",
     "text": [
      "OverallQual\n"
     ]
    },
    {
     "data": {
      "image/png": "[encoded data removed]",
      "text/plain": [
       "<Figure size 432x288 with 1 Axes>"
      ]
     },
     "metadata": {
      "needs_background": "light"
     },
     "output_type": "display_data"
    },
    {
     "name": "stdout",
     "output_type": "stream",
     "text": [
      "GrLivArea\n"
     ]
    },
    {
     "data": {
      "image/png": "[encoded data removed]",
      "text/plain": [
       "<Figure size 432x288 with 1 Axes>"
      ]
     },
     "metadata": {
      "needs_background": "light"
     },
     "output_type": "display_data"
    },
    {
     "name": "stdout",
     "output_type": "stream",
     "text": [
      "GarageCars\n"
     ]
    },
    {
     "data": {
      "image/png": "[encoded data removed]",
      "text/plain": [
       "<Figure size 432x288 with 1 Axes>"
      ]
     },
     "metadata": {
      "needs_background": "light"
     },
     "output_type": "display_data"
    }
   ],
   "source": [
    "for Xlabel in Xtest:\n",
    "    print(Xlabel)\n",
    "    matplotlib.pyplot.scatter(Xtest[Xlabel], Ytest, alpha=0.4)\n",
    "    matplotlib.pyplot.scatter(Xtest[Xlabel], Ypred)\n",
    "    matplotlib.pyplot.show()"
   ]
  },
  {
   "cell_type": "code",
   "execution_count": null,
   "id": "af448878",
   "metadata": {},
   "outputs": [],
   "source": []
  }
 ],
 "metadata": {
  "kernelspec": {
   "display_name": "ML",
   "language": "python",
   "name": "ml"
  },
  "language_info": {
   "codemirror_mode": {
    "name": "ipython",
    "version": 3
   },
   "file_extension": ".py",
   "mimetype": "text/x-python",
   "name": "python",
   "nbconvert_exporter": "python",
   "pygments_lexer": "ipython3",
   "version": "3.9.12"
  }
 },
 "nbformat": 4,
 "nbformat_minor": 5
}
