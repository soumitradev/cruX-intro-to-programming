{
 "cells": [
  {
   "cell_type": "code",
   "execution_count": 2,
   "id": "79cda2f7",
   "metadata": {},
   "outputs": [],
   "source": [
    "import pandas\n",
    "import sklearn.svm\n",
    "import sklearn.model_selection\n",
    "import sklearn.preprocessing\n",
    "import sklearn.metrics\n",
    "import scipy.io\n",
    "import tensorflow"
   ]
  },
  {
   "cell_type": "code",
   "execution_count": 3,
   "id": "1fb6d3d4",
   "metadata": {},
   "outputs": [],
   "source": [
    "mnist = scipy.io.loadmat(\"mnist-original.mat\")"
   ]
  },
  {
   "cell_type": "code",
   "execution_count": 4,
   "id": "43f69279",
   "metadata": {},
   "outputs": [],
   "source": [
    "X = pandas.DataFrame(mnist[\"data\"].T)\n",
    "Y = pandas.DataFrame(mnist['label'][0])"
   ]
  },
  {
   "cell_type": "code",
   "execution_count": 5,
   "id": "e17d5f52",
   "metadata": {},
   "outputs": [],
   "source": [
    "X /= 255.0"
   ]
  },
  {
   "cell_type": "code",
   "execution_count": 6,
   "id": "98fd0064",
   "metadata": {},
   "outputs": [],
   "source": [
    "Xtrain, Xtest, Ytrain, Ytest = sklearn.model_selection.train_test_split(\n",
    "    X, Y, train_size=0.8, test_size=0.2,\n",
    ")"
   ]
  },
  {
   "cell_type": "code",
   "execution_count": 8,
   "id": "cc22d26b",
   "metadata": {},
   "outputs": [
    {
     "name": "stdout",
     "output_type": "stream",
     "text": [
      "Model: \"sequential_1\"\n",
      "_________________________________________________________________\n",
      " Layer (type)                Output Shape              Param #   \n",
      "=================================================================\n",
      " dense_2 (Dense)             (None, 64)                50240     \n",
      "                                                                 \n",
      " dense_3 (Dense)             (None, 10)                650       \n",
      "                                                                 \n",
      "=================================================================\n",
      "Total params: 50,890\n",
      "Trainable params: 50,890\n",
      "Non-trainable params: 0\n",
      "_________________________________________________________________\n"
     ]
    }
   ],
   "source": [
    "model = tensorflow.keras.Sequential([\n",
    "    tensorflow.keras.Input(784),\n",
    "    tensorflow.keras.layers.Dense(64, activation=\"relu\"),\n",
    "    tensorflow.keras.layers.Dense(10, activation=\"softmax\"),\n",
    "])\n",
    "model.summary()"
   ]
  },
  {
   "cell_type": "code",
   "execution_count": 11,
   "id": "d3e313f0",
   "metadata": {},
   "outputs": [
    {
     "name": "stdout",
     "output_type": "stream",
     "text": [
      "Epoch 1/10\n",
      "875/875 [==============================] - 2s 2ms/step - loss: 0.0873 - acc: 0.9744\n",
      "Epoch 2/10\n",
      "875/875 [==============================] - 2s 2ms/step - loss: 0.0726 - acc: 0.9785\n",
      "Epoch 3/10\n",
      "875/875 [==============================] - 2s 2ms/step - loss: 0.0607 - acc: 0.9819\n",
      "Epoch 4/10\n",
      "875/875 [==============================] - 2s 2ms/step - loss: 0.0527 - acc: 0.9848\n",
      "Epoch 5/10\n",
      "875/875 [==============================] - 2s 2ms/step - loss: 0.0456 - acc: 0.9865\n",
      "Epoch 6/10\n",
      "875/875 [==============================] - 2s 2ms/step - loss: 0.0394 - acc: 0.9891\n",
      "Epoch 7/10\n",
      "875/875 [==============================] - 2s 2ms/step - loss: 0.0357 - acc: 0.9895\n",
      "Epoch 8/10\n",
      "875/875 [==============================] - 2s 2ms/step - loss: 0.0307 - acc: 0.9913\n",
      "Epoch 9/10\n",
      "875/875 [==============================] - 2s 2ms/step - loss: 0.0276 - acc: 0.9927\n",
      "Epoch 10/10\n",
      "875/875 [==============================] - 2s 2ms/step - loss: 0.0245 - acc: 0.9931\n"
     ]
    }
   ],
   "source": [
    "model.compile(optimizer=\"adam\", loss=\"sparse_categorical_crossentropy\", metrics=['acc'])\n",
    "history = model.fit(Xtrain, Ytrain, batch_size=64, epochs=10)"
   ]
  },
  {
   "cell_type": "code",
   "execution_count": 12,
   "id": "8fcd2eb0",
   "metadata": {},
   "outputs": [
    {
     "name": "stdout",
     "output_type": "stream",
     "text": [
      "438/438 [==============================] - 1s 2ms/step - loss: 0.0959 - acc: 0.9739\n"
     ]
    },
    {
     "data": {
      "text/plain": [
       "[0.09589867293834686, 0.9739285707473755]"
      ]
     },
     "execution_count": 12,
     "metadata": {},
     "output_type": "execute_result"
    }
   ],
   "source": [
    "model.evaluate(Xtest, Ytest)"
   ]
  },
  {
   "cell_type": "code",
   "execution_count": null,
   "id": "89e9cc2c",
   "metadata": {},
   "outputs": [],
   "source": []
  }
 ],
 "metadata": {
  "kernelspec": {
   "display_name": "ML",
   "language": "python",
   "name": "ml"
  },
  "language_info": {
   "codemirror_mode": {
    "name": "ipython",
    "version": 3
   },
   "file_extension": ".py",
   "mimetype": "text/x-python",
   "name": "python",
   "nbconvert_exporter": "python",
   "pygments_lexer": "ipython3",
   "version": "3.9.12"
  }
 },
 "nbformat": 4,
 "nbformat_minor": 5
}
