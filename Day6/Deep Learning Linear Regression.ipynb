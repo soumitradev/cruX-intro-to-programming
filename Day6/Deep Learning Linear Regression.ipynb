{
 "cells": [
  {
   "cell_type": "code",
   "execution_count": 1,
   "id": "06a0b37c",
   "metadata": {},
   "outputs": [],
   "source": [
    "import tensorflow\n",
    "import pandas\n",
    "import matplotlib.pyplot\n",
    "import sklearn.model_selection"
   ]
  },
  {
   "cell_type": "code",
   "execution_count": 3,
   "id": "4e072478",
   "metadata": {},
   "outputs": [],
   "source": [
    "df = pandas.read_csv(\"train.csv\")\n",
    "X = df[[\"OverallQual\"]]\n",
    "Y = df[\"SalePrice\"]\n",
    "Xtemp = df[\"OverallQual\"]\n",
    "xrange = Xtemp.std()\n",
    "yrange = Y.std()\n",
    "X /= xrange\n",
    "Y /= yrange"
   ]
  },
  {
   "cell_type": "code",
   "execution_count": 5,
   "id": "46e8f6ce",
   "metadata": {},
   "outputs": [
    {
     "data": {
      "text/html": [
       "<div>\n",
       "<style scoped>\n",
       "    .dataframe tbody tr th:only-of-type {\n",
       "        vertical-align: middle;\n",
       "    }\n",
       "\n",
       "    .dataframe tbody tr th {\n",
       "        vertical-align: top;\n",
       "    }\n",
       "\n",
       "    .dataframe thead th {\n",
       "        text-align: right;\n",
       "    }\n",
       "</style>\n",
       "<table border=\"1\" class=\"dataframe\">\n",
       "  <thead>\n",
       "    <tr style=\"text-align: right;\">\n",
       "      <th></th>\n",
       "      <th>OverallQual</th>\n",
       "    </tr>\n",
       "  </thead>\n",
       "  <tbody>\n",
       "    <tr>\n",
       "      <th>count</th>\n",
       "      <td>1460.000000</td>\n",
       "    </tr>\n",
       "    <tr>\n",
       "      <th>mean</th>\n",
       "      <td>4.410217</td>\n",
       "    </tr>\n",
       "    <tr>\n",
       "      <th>std</th>\n",
       "      <td>1.000000</td>\n",
       "    </tr>\n",
       "    <tr>\n",
       "      <th>min</th>\n",
       "      <td>0.723068</td>\n",
       "    </tr>\n",
       "    <tr>\n",
       "      <th>25%</th>\n",
       "      <td>3.615338</td>\n",
       "    </tr>\n",
       "    <tr>\n",
       "      <th>50%</th>\n",
       "      <td>4.338406</td>\n",
       "    </tr>\n",
       "    <tr>\n",
       "      <th>75%</th>\n",
       "      <td>5.061473</td>\n",
       "    </tr>\n",
       "    <tr>\n",
       "      <th>max</th>\n",
       "      <td>7.230676</td>\n",
       "    </tr>\n",
       "  </tbody>\n",
       "</table>\n",
       "</div>"
      ],
      "text/plain": [
       "       OverallQual\n",
       "count  1460.000000\n",
       "mean      4.410217\n",
       "std       1.000000\n",
       "min       0.723068\n",
       "25%       3.615338\n",
       "50%       4.338406\n",
       "75%       5.061473\n",
       "max       7.230676"
      ]
     },
     "execution_count": 5,
     "metadata": {},
     "output_type": "execute_result"
    }
   ],
   "source": [
    "X.describe()"
   ]
  },
  {
   "cell_type": "code",
   "execution_count": 6,
   "id": "b478d39c",
   "metadata": {},
   "outputs": [],
   "source": [
    "Xtrain, Xtest, Ytrain, Ytest = sklearn.model_selection.train_test_split(\n",
    "    X, Y, train_size=0.8, test_size=0.2,\n",
    ")"
   ]
  },
  {
   "cell_type": "code",
   "execution_count": 7,
   "id": "dea8b9e4",
   "metadata": {},
   "outputs": [
    {
     "name": "stdout",
     "output_type": "stream",
     "text": [
      "Model: \"sequential\"\n",
      "_________________________________________________________________\n",
      " Layer (type)                Output Shape              Param #   \n",
      "=================================================================\n",
      " dense (Dense)               (None, 1)                 2         \n",
      "                                                                 \n",
      "=================================================================\n",
      "Total params: 2\n",
      "Trainable params: 2\n",
      "Non-trainable params: 0\n",
      "_________________________________________________________________\n"
     ]
    }
   ],
   "source": [
    "model = tensorflow.keras.Sequential([\n",
    "    tensorflow.keras.Input(1),\n",
    "    tensorflow.keras.layers.Dense(1),\n",
    "])\n",
    "model.summary()"
   ]
  },
  {
   "cell_type": "code",
   "execution_count": 10,
   "id": "7ab9f03c",
   "metadata": {},
   "outputs": [
    {
     "name": "stdout",
     "output_type": "stream",
     "text": [
      "Epoch 1/30\n",
      "1168/1168 [==============================] - 1s 1ms/step - loss: 0.4953\n",
      "Epoch 2/30\n",
      "1168/1168 [==============================] - 1s 1ms/step - loss: 0.4824\n",
      "Epoch 3/30\n",
      "1168/1168 [==============================] - 1s 1ms/step - loss: 0.4668\n",
      "Epoch 4/30\n",
      "1168/1168 [==============================] - 2s 1ms/step - loss: 0.4557\n",
      "Epoch 5/30\n",
      "1168/1168 [==============================] - 2s 1ms/step - loss: 0.4474\n",
      "Epoch 6/30\n",
      "1168/1168 [==============================] - 2s 1ms/step - loss: 0.4391\n",
      "Epoch 7/30\n",
      "1168/1168 [==============================] - 2s 1ms/step - loss: 0.4320\n",
      "Epoch 8/30\n",
      "1168/1168 [==============================] - 2s 1ms/step - loss: 0.4257\n",
      "Epoch 9/30\n",
      "1168/1168 [==============================] - 2s 1ms/step - loss: 0.4181\n",
      "Epoch 10/30\n",
      "1168/1168 [==============================] - 2s 1ms/step - loss: 0.4121\n",
      "Epoch 11/30\n",
      "1168/1168 [==============================] - 2s 1ms/step - loss: 0.4081\n",
      "Epoch 12/30\n",
      "1168/1168 [==============================] - 2s 1ms/step - loss: 0.4039\n",
      "Epoch 13/30\n",
      "1168/1168 [==============================] - 2s 1ms/step - loss: 0.4001\n",
      "Epoch 14/30\n",
      "1168/1168 [==============================] - 2s 1ms/step - loss: 0.3973\n",
      "Epoch 15/30\n",
      "1168/1168 [==============================] - 2s 1ms/step - loss: 0.3934\n",
      "Epoch 16/30\n",
      "1168/1168 [==============================] - 2s 1ms/step - loss: 0.3907\n",
      "Epoch 17/30\n",
      "1168/1168 [==============================] - 2s 2ms/step - loss: 0.3896\n",
      "Epoch 18/30\n",
      "1168/1168 [==============================] - 2s 1ms/step - loss: 0.3878\n",
      "Epoch 19/30\n",
      "1168/1168 [==============================] - 2s 2ms/step - loss: 0.3871\n",
      "Epoch 20/30\n",
      "1168/1168 [==============================] - 2s 2ms/step - loss: 0.3852\n",
      "Epoch 21/30\n",
      "1168/1168 [==============================] - 2s 1ms/step - loss: 0.3836\n",
      "Epoch 22/30\n",
      "1168/1168 [==============================] - 2s 1ms/step - loss: 0.3841\n",
      "Epoch 23/30\n",
      "1168/1168 [==============================] - 2s 1ms/step - loss: 0.3831\n",
      "Epoch 24/30\n",
      "1168/1168 [==============================] - 2s 2ms/step - loss: 0.3826\n",
      "Epoch 25/30\n",
      "1168/1168 [==============================] - 2s 1ms/step - loss: 0.3815\n",
      "Epoch 26/30\n",
      "1168/1168 [==============================] - 2s 2ms/step - loss: 0.3817\n",
      "Epoch 27/30\n",
      "1168/1168 [==============================] - 2s 1ms/step - loss: 0.3792\n",
      "Epoch 28/30\n",
      "1168/1168 [==============================] - 2s 1ms/step - loss: 0.3804\n",
      "Epoch 29/30\n",
      "1168/1168 [==============================] - 2s 2ms/step - loss: 0.3798\n",
      "Epoch 30/30\n",
      "1168/1168 [==============================] - 2s 2ms/step - loss: 0.3780\n"
     ]
    }
   ],
   "source": [
    "model.compile(optimizer=\"adam\", loss=\"mean_squared_error\")\n",
    "history = model.fit(Xtrain, Ytrain, batch_size=1, epochs=30)"
   ]
  },
  {
   "cell_type": "code",
   "execution_count": 11,
   "id": "e2e7fd03",
   "metadata": {},
   "outputs": [
    {
     "name": "stdout",
     "output_type": "stream",
     "text": [
      "292/292 [==============================] - 0s 950us/step - loss: 0.3822\n",
      "10/10 [==============================] - 0s 1ms/step\n"
     ]
    }
   ],
   "source": [
    "model.evaluate(Xtest, Ytest, batch_size=1)\n",
    "Ypred = model.predict(Xtest)"
   ]
  },
  {
   "cell_type": "code",
   "execution_count": 15,
   "id": "118d9684",
   "metadata": {},
   "outputs": [
    {
     "name": "stdout",
     "output_type": "stream",
     "text": [
      "OverallQual\n"
     ]
    },
    {
     "data": {
      "image/png": "[encoded data removed]",
      "text/plain": [
       "<Figure size 432x288 with 1 Axes>"
      ]
     },
     "metadata": {
      "needs_background": "light"
     },
     "output_type": "display_data"
    }
   ],
   "source": [
    "for Xlabel in Xtest:\n",
    "    print(Xlabel)\n",
    "    matplotlib.pyplot.scatter(Xtest[Xlabel], Ytest, alpha=0.4)\n",
    "    matplotlib.pyplot.scatter(Xtest[Xlabel], Ypred)\n",
    "    matplotlib.pyplot.show()"
   ]
  },
  {
   "cell_type": "code",
   "execution_count": null,
   "id": "44712102",
   "metadata": {},
   "outputs": [],
   "source": []
  }
 ],
 "metadata": {
  "kernelspec": {
   "display_name": "ML",
   "language": "python",
   "name": "ml"
  },
  "language_info": {
   "codemirror_mode": {
    "name": "ipython",
    "version": 3
   },
   "file_extension": ".py",
   "mimetype": "text/x-python",
   "name": "python",
   "nbconvert_exporter": "python",
   "pygments_lexer": "ipython3",
   "version": "3.9.12"
  }
 },
 "nbformat": 4,
 "nbformat_minor": 5
}
