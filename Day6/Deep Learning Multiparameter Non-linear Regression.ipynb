{
 "cells": [
  {
   "cell_type": "code",
   "execution_count": 12,
   "id": "20e14fbc",
   "metadata": {},
   "outputs": [],
   "source": [
    "import tensorflow\n",
    "import pandas\n",
    "import matplotlib.pyplot\n",
    "import sklearn.model_selection"
   ]
  },
  {
   "cell_type": "code",
   "execution_count": 13,
   "id": "fc2bf813",
   "metadata": {},
   "outputs": [
    {
     "name": "stderr",
     "output_type": "stream",
     "text": [
      "C:\\Users\\Soumi\\AppData\\Local\\Temp\\ipykernel_6136\\2632086542.py:7: SettingWithCopyWarning: \n",
      "A value is trying to be set on a copy of a slice from a DataFrame.\n",
      "Try using .loc[row_indexer,col_indexer] = value instead\n",
      "\n",
      "See the caveats in the documentation: https://pandas.pydata.org/pandas-docs/stable/user_guide/indexing.html#returning-a-view-versus-a-copy\n",
      "  X[Xlabel] /= xrange\n"
     ]
    }
   ],
   "source": [
    "df = pandas.read_csv(\"train.csv\")\n",
    "X = df[[\"OverallQual\", \"GrLivArea\", \"GarageCars\"]]\n",
    "Y = df[\"SalePrice\"]\n",
    "for Xlabel in X:\n",
    "    Xtemp = X[Xlabel]\n",
    "    xrange = Xtemp.std()\n",
    "    X[Xlabel] /= xrange\n",
    "    \n",
    "yrange = Y.std()\n",
    "Y /= yrange"
   ]
  },
  {
   "cell_type": "code",
   "execution_count": 14,
   "id": "b34a3adf",
   "metadata": {},
   "outputs": [
    {
     "data": {
      "text/html": [
       "<div>\n",
       "<style scoped>\n",
       "    .dataframe tbody tr th:only-of-type {\n",
       "        vertical-align: middle;\n",
       "    }\n",
       "\n",
       "    .dataframe tbody tr th {\n",
       "        vertical-align: top;\n",
       "    }\n",
       "\n",
       "    .dataframe thead th {\n",
       "        text-align: right;\n",
       "    }\n",
       "</style>\n",
       "<table border=\"1\" class=\"dataframe\">\n",
       "  <thead>\n",
       "    <tr style=\"text-align: right;\">\n",
       "      <th></th>\n",
       "      <th>OverallQual</th>\n",
       "      <th>GrLivArea</th>\n",
       "      <th>GarageCars</th>\n",
       "    </tr>\n",
       "  </thead>\n",
       "  <tbody>\n",
       "    <tr>\n",
       "      <th>count</th>\n",
       "      <td>1460.000000</td>\n",
       "      <td>1460.000000</td>\n",
       "      <td>1460.000000</td>\n",
       "    </tr>\n",
       "    <tr>\n",
       "      <th>mean</th>\n",
       "      <td>4.410217</td>\n",
       "      <td>2.883959</td>\n",
       "      <td>2.364630</td>\n",
       "    </tr>\n",
       "    <tr>\n",
       "      <th>std</th>\n",
       "      <td>1.000000</td>\n",
       "      <td>1.000000</td>\n",
       "      <td>1.000000</td>\n",
       "    </tr>\n",
       "    <tr>\n",
       "      <th>min</th>\n",
       "      <td>0.723068</td>\n",
       "      <td>0.635609</td>\n",
       "      <td>0.000000</td>\n",
       "    </tr>\n",
       "    <tr>\n",
       "      <th>25%</th>\n",
       "      <td>3.615338</td>\n",
       "      <td>2.149462</td>\n",
       "      <td>1.338124</td>\n",
       "    </tr>\n",
       "    <tr>\n",
       "      <th>50%</th>\n",
       "      <td>4.338406</td>\n",
       "      <td>2.786022</td>\n",
       "      <td>2.676248</td>\n",
       "    </tr>\n",
       "    <tr>\n",
       "      <th>75%</th>\n",
       "      <td>5.061473</td>\n",
       "      <td>3.381192</td>\n",
       "      <td>2.676248</td>\n",
       "    </tr>\n",
       "    <tr>\n",
       "      <th>max</th>\n",
       "      <td>7.230676</td>\n",
       "      <td>10.736842</td>\n",
       "      <td>5.352495</td>\n",
       "    </tr>\n",
       "  </tbody>\n",
       "</table>\n",
       "</div>"
      ],
      "text/plain": [
       "       OverallQual    GrLivArea   GarageCars\n",
       "count  1460.000000  1460.000000  1460.000000\n",
       "mean      4.410217     2.883959     2.364630\n",
       "std       1.000000     1.000000     1.000000\n",
       "min       0.723068     0.635609     0.000000\n",
       "25%       3.615338     2.149462     1.338124\n",
       "50%       4.338406     2.786022     2.676248\n",
       "75%       5.061473     3.381192     2.676248\n",
       "max       7.230676    10.736842     5.352495"
      ]
     },
     "execution_count": 14,
     "metadata": {},
     "output_type": "execute_result"
    }
   ],
   "source": [
    "X.describe()"
   ]
  },
  {
   "cell_type": "code",
   "execution_count": 15,
   "id": "2f1929d9",
   "metadata": {},
   "outputs": [],
   "source": [
    "Xtrain, Xtest, Ytrain, Ytest = sklearn.model_selection.train_test_split(\n",
    "    X, Y, train_size=0.8, test_size=0.2,\n",
    ")"
   ]
  },
  {
   "cell_type": "code",
   "execution_count": 16,
   "id": "2d1f487d",
   "metadata": {},
   "outputs": [
    {
     "name": "stdout",
     "output_type": "stream",
     "text": [
      "Model: \"sequential_1\"\n",
      "_________________________________________________________________\n",
      " Layer (type)                Output Shape              Param #   \n",
      "=================================================================\n",
      " dense_3 (Dense)             (None, 64)                256       \n",
      "                                                                 \n",
      " dense_4 (Dense)             (None, 64)                4160      \n",
      "                                                                 \n",
      " dense_5 (Dense)             (None, 1)                 65        \n",
      "                                                                 \n",
      "=================================================================\n",
      "Total params: 4,481\n",
      "Trainable params: 4,481\n",
      "Non-trainable params: 0\n",
      "_________________________________________________________________\n"
     ]
    }
   ],
   "source": [
    "model = tensorflow.keras.Sequential([\n",
    "    tensorflow.keras.Input(3),\n",
    "    tensorflow.keras.layers.Dense(64, activation=\"relu\"),\n",
    "    tensorflow.keras.layers.Dense(64, activation=\"relu\"),\n",
    "    tensorflow.keras.layers.Dense(1),\n",
    "])\n",
    "model.summary()"
   ]
  },
  {
   "cell_type": "code",
   "execution_count": 17,
   "id": "48ab3b07",
   "metadata": {},
   "outputs": [
    {
     "name": "stdout",
     "output_type": "stream",
     "text": [
      "Epoch 1/10\n",
      "1168/1168 [==============================] - 2s 1ms/step - loss: 0.3777\n",
      "Epoch 2/10\n",
      "1168/1168 [==============================] - 2s 2ms/step - loss: 0.3239\n",
      "Epoch 3/10\n",
      "1168/1168 [==============================] - 2s 2ms/step - loss: 0.3214\n",
      "Epoch 4/10\n",
      "1168/1168 [==============================] - 2s 2ms/step - loss: 0.3009\n",
      "Epoch 5/10\n",
      "1168/1168 [==============================] - 2s 2ms/step - loss: 0.2951\n",
      "Epoch 6/10\n",
      "1168/1168 [==============================] - 2s 2ms/step - loss: 0.2927\n",
      "Epoch 7/10\n",
      "1168/1168 [==============================] - 2s 2ms/step - loss: 0.2816\n",
      "Epoch 8/10\n",
      "1168/1168 [==============================] - 2s 2ms/step - loss: 0.2832\n",
      "Epoch 9/10\n",
      "1168/1168 [==============================] - 2s 2ms/step - loss: 0.2768\n",
      "Epoch 10/10\n",
      "1168/1168 [==============================] - 2s 2ms/step - loss: 0.2873\n"
     ]
    }
   ],
   "source": [
    "model.compile(optimizer=\"adam\", loss=\"mean_squared_error\")\n",
    "history = model.fit(Xtrain, Ytrain, batch_size=1, epochs=10)"
   ]
  },
  {
   "cell_type": "code",
   "execution_count": 18,
   "id": "76886062",
   "metadata": {},
   "outputs": [
    {
     "name": "stdout",
     "output_type": "stream",
     "text": [
      "292/292 [==============================] - 0s 1ms/step - loss: 0.1986\n",
      "10/10 [==============================] - 0s 2ms/step\n"
     ]
    }
   ],
   "source": [
    "model.evaluate(Xtest, Ytest, batch_size=1)\n",
    "Ypred = model.predict(Xtest)"
   ]
  },
  {
   "cell_type": "code",
   "execution_count": 19,
   "id": "17acdff2",
   "metadata": {},
   "outputs": [
    {
     "name": "stdout",
     "output_type": "stream",
     "text": [
      "OverallQual\n"
     ]
    },
    {
     "data": {
      "image/png": "[encoded data removed]",
      "text/plain": [
       "<Figure size 432x288 with 1 Axes>"
      ]
     },
     "metadata": {
      "needs_background": "light"
     },
     "output_type": "display_data"
    },
    {
     "name": "stdout",
     "output_type": "stream",
     "text": [
      "GrLivArea\n"
     ]
    },
    {
     "data": {
      "image/png": "[encoded data removed]",
      "text/plain": [
       "<Figure size 432x288 with 1 Axes>"
      ]
     },
     "metadata": {
      "needs_background": "light"
     },
     "output_type": "display_data"
    },
    {
     "name": "stdout",
     "output_type": "stream",
     "text": [
      "GarageCars\n"
     ]
    },
    {
     "data": {
      "image/png": "[encoded data removed]",
      "text/plain": [
       "<Figure size 432x288 with 1 Axes>"
      ]
     },
     "metadata": {
      "needs_background": "light"
     },
     "output_type": "display_data"
    }
   ],
   "source": [
    "for Xlabel in Xtest:\n",
    "    print(Xlabel)\n",
    "    matplotlib.pyplot.scatter(Xtest[Xlabel], Ytest, alpha=0.4)\n",
    "    matplotlib.pyplot.scatter(Xtest[Xlabel], Ypred)\n",
    "    matplotlib.pyplot.show()"
   ]
  },
  {
   "cell_type": "code",
   "execution_count": null,
   "id": "af448878",
   "metadata": {},
   "outputs": [],
   "source": []
  }
 ],
 "metadata": {
  "kernelspec": {
   "display_name": "ML",
   "language": "python",
   "name": "ml"
  },
  "language_info": {
   "codemirror_mode": {
    "name": "ipython",
    "version": 3
   },
   "file_extension": ".py",
   "mimetype": "text/x-python",
   "name": "python",
   "nbconvert_exporter": "python",
   "pygments_lexer": "ipython3",
   "version": "3.9.12"
  }
 },
 "nbformat": 4,
 "nbformat_minor": 5
}
